{
 "cells": [
  {
   "cell_type": "markdown",
   "id": "3fd4cfe6",
   "metadata": {},
   "source": [
    "### KINGSLEY AMADI-BENNETT\n",
    "### CWID: 50262316\n",
    "### ASSIGNMENT 3"
   ]
  },
  {
   "cell_type": "markdown",
   "id": "0e195e3e",
   "metadata": {},
   "source": [
    "#### Q1 Pseudocode:\n",
    "   - Create the class for student\n",
    "       - -class student:\n",
    "        - def __init__(self, fname, lname, country, ov_grade, credit_completed, major):\n",
    "        - self.fname = fname\n",
    "        - self.lname = lname\n",
    "        - self.country = country\n",
    "        - self.ov_grade = ov_grade\n",
    "        - self.credit_completed = credit_completed\n",
    "        - self.major = major\n",
    "        \n",
    "   - Create the method\n",
    "       -     def progress(self):\n",
    "        - if (self.ov_grade>3.0) and (self.credit_completed>20):\n",
    "        -    print(\"Good\")\n",
    "        - elif (self.ov_grade>2.5) and (self.credit_completed>10) and (self.credit_completed < 20):\n",
    "        -    print(\"Average\")\n",
    "        - elif (self.ov_grade < 2.5):\n",
    "        -   print(\"Bad\")\n",
    "        \n",
    "   - Create data for students\n",
    "   -- student_1 = student(\"Kingsley\", \"Bennett\", \"USA\", 4.0, 25, \"Business Analytics\")\n",
    "    - student_2 = student(\"Jane\", \"Dorsey\", \"AUS\", 2.8, 15, \"Business Analytics\")\n",
    "    - student_3 = student(\"Michael\", \"Angelo\", \"ITA\", 2.0, 25, \"Business Analytics\")\n",
    "    - student_4 = student(\"Frank\", \"King\", \"CAN\", 3.5, 20, \"Business Analytics\")\n",
    "    - student_5 = student(\"Thomas\", \"Bask\", \"USA\", 3.1, 20, \"Business Analytics\")\n",
    "\n",
    "   - Select a student data to check if it is good, average or bad.\n",
    "        - student_5.progress()    \n",
    "   \n",
    "    \n"
   ]
  },
  {
   "cell_type": "code",
   "execution_count": 28,
   "id": "12790c43",
   "metadata": {},
   "outputs": [
    {
     "name": "stdout",
     "output_type": "stream",
     "text": [
      "Good\n",
      "Average\n",
      "Bad\n",
      "Good\n"
     ]
    }
   ],
   "source": [
    "# Question 1 Solution\n",
    "class student:\n",
    "    def __init__(self, fname, lname, country, ov_grade, credit_completed, major):\n",
    "        self.fname = fname\n",
    "        self.lname = lname\n",
    "        self.country = country\n",
    "        self.ov_grade = ov_grade\n",
    "        self.credit_completed = credit_completed\n",
    "        self.major = major\n",
    "                \n",
    "    def progress(self):\n",
    "        if (self.ov_grade>3.0) and (self.credit_completed>20):\n",
    "            print(\"Good\")\n",
    "        elif (self.ov_grade>2.5) and (self.credit_completed>10) and (self.credit_completed < 20):\n",
    "            print(\"Average\")\n",
    "        elif (self.ov_grade < 2.5):\n",
    "            print(\"Bad\")\n",
    "            \n",
    "            \n",
    "student_1 = student(\"Kingsley\", \"Bennett\", \"USA\", 4.0, 25, \"Business Analytics\")\n",
    "student_2 = student(\"Jane\", \"Dorsey\", \"AUS\", 2.8, 15, \"Business Analytics\")\n",
    "student_3 = student(\"Michael\", \"Angelo\", \"ITA\", 2.0, 25, \"Business Analytics\")\n",
    "student_4 = student(\"Frank\", \"King\", \"CAN\", 3.5, 23, \"Business Analytics\")\n",
    "student_5 = student(\"Thomas\", \"Bask\", \"USA\", 2.5, 0, \"Business Analytics\")\n",
    "\n",
    "student_1.progress()\n",
    "student_2.progress()\n",
    "student_3.progress()\n",
    "student_4.progress()\n",
    "student_5.progress()"
   ]
  },
  {
   "cell_type": "markdown",
   "id": "439831b6",
   "metadata": {},
   "source": [
    "#### Q2 Pseudocode\n",
    "- Create the function. In this function, create empty arrays(lst, pos, neg) to hold the different categories of data.\n",
    "- Prompt the user to provide the number(n) of positive and negative data\n",
    "    - #lst for the full list of numbers\n",
    "    - #pos for positive data\n",
    "    - #neg for negative data\n",
    "    - - def number_seperator():\n",
    "        -lst= []\n",
    "        -n = input(\"Input number of positive/negative elements\")\n",
    "        -print(str(\"Please input a mixture of \" + n + \" postive and negative numbers\"))\n",
    "        -pos = []\n",
    "        -neg = []\n",
    "        -n = int(n)\n",
    "        \n",
    "- Create a for loop to build the list according to the number (n) of positive & negative data provided.\n",
    "    -    n = int(n)\n",
    "    - for i in range(0, n):\n",
    "    -    element = int(input())\n",
    "    -    lst.append(element)\n",
    "    \n",
    "- Create another for loop to go through the list and categorize the data into positive and negative.\n",
    "    -    for x in lst:\n",
    "    -    if (x >= 0):\n",
    "    -        pos.append(x)\n",
    "    -    else:\n",
    "    -        neg.append(x)\n",
    "    \n",
    "- Print out the different lists.\n",
    "    -    if n == len(lst):\n",
    "    -    print(pos)\n",
    "    -    print(neg)\n",
    "\n",
    "\n",
    "- Run the function\n",
    "    - number_seperator()\n"
   ]
  },
  {
   "cell_type": "code",
   "execution_count": 29,
   "id": "2e457ecf",
   "metadata": {
    "scrolled": true
   },
   "outputs": [
    {
     "name": "stdout",
     "output_type": "stream",
     "text": [
      "Input number of positive/negative elements10\n",
      "Please input a mixture of 10 postive and negative numbers\n",
      "2\n",
      "3\n",
      "4\n",
      "5\n",
      "-8\n",
      "-9\n",
      "-1\n",
      "-2\n",
      "5\n",
      "7\n",
      "[2, 3, 4, 5, 5, 7]\n",
      "[-8, -9, -1, -2]\n"
     ]
    }
   ],
   "source": [
    "def number_seperator():\n",
    "    lst = []\n",
    "    n = input(\"Input number of positive/negative elements\")\n",
    "    print(str(\"Please input a mixture of \" + n + \" postive and negative numbers\"))\n",
    "    pos = []\n",
    "    neg = []\n",
    "    n = int(n)\n",
    "    for i in range(0, n):\n",
    "        element = int(input())      \n",
    "        lst.append(element)\n",
    "        \n",
    "    for x in lst:\n",
    "        if (x >= 0):\n",
    "            pos.append(x)\n",
    "        else:\n",
    "            neg.append(x)\n",
    "            \n",
    "    if n == len(lst):\n",
    "        print(pos)\n",
    "        print(neg)\n",
    "\n",
    "\n",
    "        \n",
    "number_seperator()"
   ]
  },
  {
   "cell_type": "markdown",
   "id": "32d37368",
   "metadata": {},
   "source": [
    "#### Q3 BlackJack Possibilites Game\n",
    "- Create the function\n",
    "    - def card_play():\n",
    "    - global z\n",
    "    - z = int(input(\"Enter Player's final score = \"))\n",
    "- Initialize all_win_possibilities as empty\n",
    "    - all_win_possibilities = []\n",
    "\n",
    "- Create an 'if' statement to ensure that user input is between 15 & 21\n",
    "    - if (z>=15) and (z<=21):\n",
    "\n",
    "- Create a for loop to loop between numbers 1 and 11\n",
    "    - for a in range(1, 12):\n",
    "\n",
    "- Create another loop to loop between loop a and 11\n",
    "    - for b in range(a, 12):\n",
    "    \n",
    "- Create a logic to ensure that the input is less than a & b and a & b is less than 22. Append the results to the list\n",
    "    - if(z < a+b) and (a+b < 22):\n",
    "    - all_win_possibilities.append([a, b])\n",
    "    \n",
    "- Print out the result\n",
    "    - print(\"You inputted \" +z+ \". So, these are the possibilities =\", all_win_possibilities)\n",
    "\n",
    "- Create the else statement, incase the user input isn't between 15 & 21\n",
    "\n",
    "- Run the function\n"
   ]
  },
  {
   "cell_type": "code",
   "execution_count": 30,
   "id": "ff929a8f",
   "metadata": {},
   "outputs": [
    {
     "name": "stdout",
     "output_type": "stream",
     "text": [
      "Enter your total score between 15 and 21: 19\n",
      "You inputted 19. So, these are the possibilities = [[9, 11], [10, 10], [10, 11]]\n"
     ]
    }
   ],
   "source": [
    "def card_play():\n",
    "    z = int(input(\"Enter your total score between 15 and 21: \"))\n",
    "    all_win_possibilities = []\n",
    "\n",
    "    if (z>=15) and (z<=21):    \n",
    "        for a in range(1, 12):\n",
    "            for b in range(a, 12):\n",
    "                if(z < a+b) and (a+b < 22):\n",
    "                    all_win_possibilities.append([a, b])\n",
    "\n",
    "        z = str(z)\n",
    "        print(\"You inputted \" +z+ \". So, these are the possibilities =\", all_win_possibilities)\n",
    "        \n",
    "    else:\n",
    "        print(\"Please try again. Input a number between 15 and 21\")\n",
    "\n",
    "card_play()"
   ]
  },
  {
   "cell_type": "markdown",
   "id": "659e38b5",
   "metadata": {},
   "source": [
    "#### Q4: Pseudocode\n",
    "- Paste in the codes\n",
    "- Remove all inputs and prints\n",
    "- Check the number of steps\n",
    "- Run %timeit for functions in both questions"
   ]
  },
  {
   "cell_type": "code",
   "execution_count": 24,
   "id": "a456d1b6",
   "metadata": {},
   "outputs": [
    {
     "name": "stdout",
     "output_type": "stream",
     "text": [
      "838 ns ± 7.96 ns per loop (mean ± std. dev. of 7 runs, 1000000 loops each)\n",
      "5.61 µs ± 43.4 ns per loop (mean ± std. dev. of 7 runs, 100000 loops each)\n"
     ]
    }
   ],
   "source": [
    "# Question 4: \n",
    "# Q2 Program in Q4\n",
    "# I hardcoded the array in the first part of this question, as I didn't want to receive user input(as mentioned in the class)\n",
    "def number_seperator():\n",
    "    lst = [-6, 5, -3, -2, 1, 0, -8, 9, 3]\n",
    "    pos = []\n",
    "    neg = []             # Step 1\n",
    "                         \n",
    "    for x in lst:        # 2*n\n",
    "        if (x >= 0):\n",
    "            pos.append(x)\n",
    "        else:\n",
    "            neg.append(x)\n",
    "\n",
    "# Q3 Program in Q4\n",
    "# I hardcoded the value of z too, as I didn't want to receive user input(as mentioned in the class)\n",
    "# I commented out all prints here to avoid any interuption in running\n",
    "def card_play():\n",
    "    z = int(18)\n",
    "    all_win_possibilities = []    #Step 1\n",
    "\n",
    "    if (z>=15) and (z<=21):       #2*n\n",
    "        for a in range(1, 12):\n",
    "            for b in range(a, 12):           #2*n\n",
    "                if(z < a+b) and (a+b < 22):\n",
    "                    all_win_possibilities.append([a, b])\n",
    "\n",
    "        #z = str(z)\n",
    "        #print(\"You inputted \" +z+ \". So, these are the possibilities =\", all_win_possibilities)\n",
    "        \n",
    "    else:\n",
    "        print(\"Please try again. Input a number between 15 and 21\")\n",
    "\n",
    "#Run the timeits\n",
    "%timeit number_seperator()\n",
    "%timeit card_play()\n",
    "\n",
    "#838 ns - Question 2\n",
    "# Going by the description in the video, there is 1 step in Q2. And the equation is 2n+1.\n",
    "\n",
    "#5610 ns - Question 3\n",
    "# Going by the description in the video, there is 1 step in Q3. And the equation is 4n+1."
   ]
  }
 ],
 "metadata": {
  "kernelspec": {
   "display_name": "Python 3 (ipykernel)",
   "language": "python",
   "name": "python3"
  },
  "language_info": {
   "codemirror_mode": {
    "name": "ipython",
    "version": 3
   },
   "file_extension": ".py",
   "mimetype": "text/x-python",
   "name": "python",
   "nbconvert_exporter": "python",
   "pygments_lexer": "ipython3",
   "version": "3.9.7"
  }
 },
 "nbformat": 4,
 "nbformat_minor": 5
}
